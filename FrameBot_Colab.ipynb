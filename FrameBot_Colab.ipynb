{
  "nbformat": 4,
  "nbformat_minor": 0,
  "metadata": {
    "colab": {
      "name": "FrameBot-Colab.ipynb",
      "provenance": [],
      "private_outputs": true,
      "collapsed_sections": []
    },
    "kernelspec": {
      "name": "python3",
      "display_name": "Python 3"
    }
  },
  "cells": [
    {
      "cell_type": "markdown",
      "metadata": {
        "id": "s4KbS6nG2jmp"
      },
      "source": [
        "**Sorry if this notebook looks kinda messy and also sorry for my bad english**\n",
        "<br>~\n",
        "<br>Sources/Credits :\n",
        "<br>FrameBot by [Boidushya](https://github.com/Boidushya)\n",
        "<br>Colab file made by [izu14](https://github.com/izu14)\n",
        "<br>~\n",
        "<br>Before proceeding, please read this [README.md](https://github.com/izu14/FrameBot-Colab/blob/master/README.md)"
      ]
    },
    {
      "cell_type": "markdown",
      "metadata": {
        "id": "Q24aJmjL3DfQ"
      },
      "source": [
        "**!!!RUN THE COMMAND ACCORDING TO ORDER NUMBER (1 > 2 > 3)!!!**"
      ]
    },
    {
      "cell_type": "markdown",
      "metadata": {
        "id": "TDYjkOwJ3_zG"
      },
      "source": [
        "**[1] CLONE FRAMEBOT REPO AND INSTALL REQUIRED PACKAGES**"
      ]
    },
    {
      "cell_type": "code",
      "metadata": {
        "id": "B_ddRI_5M4QD",
        "cellView": "form"
      },
      "source": [
        "#@markdown ### ← Run This\n",
        "from IPython.display import clear_output\n",
        "!git clone https://github.com/izu14/FrameBot\n",
        "clear_output()\n",
        "%mkdir /content/FrameBot/assets/video\n",
        "%cd /content/FrameBot\n",
        "clear_output()\n",
        "!sudo pip3 install -r requirements.txt\n",
        "clear_output()\n",
        "!sudo pip3 install -q youtube-dl\n",
        "clear_output()\n",
        "print(f\"Done\")"
      ],
      "execution_count": null,
      "outputs": []
    },
    {
      "cell_type": "markdown",
      "metadata": {
        "id": "rlafwLpt3aYK"
      },
      "source": [
        "**[2] CHOOSE VIDEO SOURCE(Only Support Single Video Input)**"
      ]
    },
    {
      "cell_type": "code",
      "metadata": {
        "id": "nt2wUQy_FFmn",
        "cellView": "form"
      },
      "source": [
        "# @markdown ###← YouTube or any [ytdl supported sites](https://gitlab.com/ytdl-org/youtube-dl/-/raw/master/docs/supportedsites.md)\n",
        "from IPython.display import clear_output\n",
        "%rm /content/FrameBot/assets/video/*.mp4 \n",
        "Link=\"putvideolinkhere\"#@param{type:\"string\"}\n",
        "!youtube-dl -f 'bestvideo[ext=mp4]' --output \"/content/FrameBot/assets/video/%(title)s.%(ext)s\" $Link\n",
        "clear_output()\n",
        "!for filename in /content/FrameBot/assets/video/*.mp4; do echo 'Downloaded Video to '\"$filename\"; done\n"
      ],
      "execution_count": null,
      "outputs": []
    },
    {
      "cell_type": "code",
      "metadata": {
        "id": "m-C1pwTONeQL",
        "cellView": "form"
      },
      "source": [
        "#@markdown ###← Local File\n",
        "from IPython.display import clear_output\n",
        "import google.colab.files\n",
        "%rm /content/FrameBot/assets/video/*.mp4\n",
        "%cd /content/FrameBot/assets/video\n",
        "clear_output()\n",
        "uploaded = google.colab.files.upload()"
      ],
      "execution_count": null,
      "outputs": []
    },
    {
      "cell_type": "markdown",
      "metadata": {
        "id": "X3zFU2M-4Xcz"
      },
      "source": [
        "**[3] FILL ALL REQUIRED VALUE THEN PRESS RUN/PLAY BUTTON TO START THE BOT**"
      ]
    },
    {
      "cell_type": "code",
      "metadata": {
        "id": "lMWFhiXQXuJb",
        "cellView": "form"
      },
      "source": [
        "#This code was written by Boidushya Bhattacharya and Gustav Wallström (github/sudoxd) on Monday, 26 November 2019 at 20:27 p.m.\n",
        "#Reddit: https://reddit.com/u/Boidushya\n",
        "#Facebook: https://facebook.com/soumyadipta.despacito\n",
        " \n",
        "#@markdown ###← Press this after you fill all the required Value\n",
        "from IPython.display import clear_output\n",
        "import cv2\n",
        "import os\n",
        "import math\n",
        "import facebook\n",
        "import functools\n",
        "import schedule\n",
        "import time\n",
        "import fnmatch\n",
        "import sys\n",
        " \n",
        "#@markdown ###<br> ↓ Replace value below with your facebook token\n",
        "Token = \"putyourtokenhere\" #@param{type:\"string\"}\n",
        "%store Token > /content/FrameBot/assets/token.txt\n",
        "clear_output()\n",
        "#@markdown > How to get your own token : <br>https://github.com/Boidushya/FrameBot/blob/master/generateToken.md</p>\n",
        " \n",
        "#@markdown ###<br> ↓ Configure your post caption\n",
        "Title = \"aiueo\"#@param{type:\"string\"}\n",
        "#@markdown > Default input(aiueo) will give a result like : <br>aiueo - Frame 1 out of 2\n",
        " \n",
        "#@markdown ###<br> ↓ Change the FPS for your video here\n",
        "FPS=1#@param{type:\"number\"}\n",
        "#@markdown > The more the fps, the more number of frames, the longer it'll take to post the whole frame\n",
        "\n",
        "#@markdown ###<br> Interval/delay(in Seconds) for each post\n",
        "Interval=15#@param{type:\"number\"}\n",
        " \n",
        "def catch_exceptions(cancel_on_failure=False):\n",
        "    def catch_exceptions_decorator(job_func):\n",
        "        @functools.wraps(job_func)\n",
        "        def wrapper(*args, **kwargs):\n",
        "            try:\n",
        "                return job_func(*args, **kwargs)\n",
        "            except:\n",
        "                import traceback\n",
        "                print(traceback.format_exc())\n",
        "                if cancel_on_failure:\n",
        "                    return schedule.CancelJob\n",
        "        return wrapper\n",
        "    return catch_exceptions_decorator\n",
        " \n",
        "def extractFrames():\n",
        "    file = os.listdir('/content/FrameBot/assets/video')[0]\n",
        "    videoFile = f\"/content/FrameBot/assets/video/{file}\"\n",
        "    if not os.path.exists('/content/FrameBot/assets/frames'):\n",
        "        os.mkdir('/content/FrameBot/assets/frames')\n",
        "    if os.path.exists(\"/content/FrameBot/assets/frames/*.jpg\"):\n",
        "        os.remove(\"/content/FrameBot/assets/frames/*.jpg\")\n",
        "    vidcap = cv2.VideoCapture(videoFile)\n",
        "    success,image = vidcap.read()\n",
        "    fps = vidcap.get(cv2.CAP_PROP_FPS)\n",
        "    required_fps = FPS\n",
        "    multiplier = round(fps/required_fps)\n",
        "    x=0\n",
        " \n",
        "    while success:\n",
        "        frameId = int(round(vidcap.get(1)))\n",
        "        success, image = vidcap.read()\n",
        " \n",
        "        if frameId % multiplier == 0:\n",
        "            x+=1\n",
        "            cv2.imwrite(f\"/content/FrameBot/assets/frames/frame{int(x):06d}.jpg\", image)\n",
        "    vidcap.release()\n",
        " \n",
        "@catch_exceptions()\n",
        "def post():\n",
        "    dir = os.listdir(\"/content/FrameBot/assets/frames\")\n",
        "    dir.sort(key = lambda t : int(t[5:-4])) #forgot to sort the files before, pls forgive me lol\n",
        "    with open(\"/content/FrameBot/assets/retain\",\"a+\") as f:\n",
        "        f.seek(0)\n",
        "        filled = f.read(1)\n",
        "        if not filled:\n",
        "            totalFrames = str(len(dir))\n",
        "            f.write(totalFrames)\n",
        "        else:\n",
        "            f.seek(0)\n",
        "            totalFrames = str(f.readline())\n",
        " \n",
        "    currentFrame = f'/content/FrameBot/assets/frames/{dir[0]}'\n",
        "    currentFrameNumber = str(int(dir[0][5:-4]))\n",
        "    msg = f\"{Title} - Frame {currentFrameNumber} out of {str(totalFrames)}\"\n",
        "    with open('/content/FrameBot/assets/token.txt','r') as token:\n",
        "        accesstoken = token.readline()\n",
        "    graph = facebook.GraphAPI(accesstoken)\n",
        "    post_id = graph.put_photo(image=open(currentFrame, 'rb'),message = msg)['post_id']\n",
        "    print(f\"Submitted post with title \\\"{msg}\\\" successfully!\")\n",
        "    os.remove(currentFrame)\n",
        " \n",
        "if __name__ == '__main__':\n",
        "    token = open('/content/FrameBot/assets/token.txt', 'r')\n",
        "    if token.readline() == \"putyourtokenhere\":\n",
        "        print(\"please replace putyourtokenhere with your own token\")\n",
        "        sys.exit(\"error no token\")\n",
        "    ans = \"y\"\n",
        "    if 'y' in ans.lower():\n",
        "        if os.path.exists(\"/content/FrameBot/assets/retain\"):\n",
        "            os.remove(\"/content/FrameBot/assets/retain\")\n",
        "        extractFrames()\n",
        "    else:\n",
        "        pass\n",
        "    schedule.every(Interval).seconds.do(post).run()\n",
        "    #schedule.every(Interval).seconds.do(post).run()\n",
        " \n",
        "    while 1:\n",
        "        schedule.run_pending()\n",
        "        time.sleep(1)"
      ],
      "execution_count": null,
      "outputs": []
    },
    {
      "cell_type": "markdown",
      "metadata": {
        "id": "LTWyhUOuJ2Ad"
      },
      "source": [
        "#### <br>**AFTER THE LAST FRAME POSTED,**\n",
        "#### **YOU MUST PRESS THE STOP BUTTON(IT WAS RUN/PLAY BUTTON PREVIOUSLY) ON THE LEFT TO STOP THIS CODE**\n",
        "#### **OR RIGHT CLICK ON IT THEN CLICK INTERRUPT EXECUTION**\n",
        "#### **ELSE, IT'LL ALWAYS THROW/SHOW AN ERROR**"
      ]
    }
  ]
}
